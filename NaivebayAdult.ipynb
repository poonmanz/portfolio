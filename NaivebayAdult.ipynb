{
  "nbformat": 4,
  "nbformat_minor": 0,
  "metadata": {
    "colab": {
      "name": "NaiveBay_Adult.ipynb",
      "provenance": [],
      "collapsed_sections": [],
      "authorship_tag": "ABX9TyMn7sy5O2XgElFb5hGbt24e",
      "include_colab_link": true
    },
    "kernelspec": {
      "name": "python3",
      "display_name": "Python 3"
    },
    "language_info": {
      "name": "python"
    }
  },
  "cells": [
    {
      "cell_type": "markdown",
      "metadata": {
        "id": "view-in-github",
        "colab_type": "text"
      },
      "source": [
        "<a href=\"https://colab.research.google.com/github/poonmanz/portfolio/blob/main/NaivebayAdult.ipynb\" target=\"_parent\"><img src=\"https://colab.research.google.com/assets/colab-badge.svg\" alt=\"Open In Colab\"/></a>"
      ]
    },
    {
      "cell_type": "code",
      "metadata": {
        "id": "q6Rx655JIzJp"
      },
      "source": [
        "import pandas as pd\n",
        "from sklearn.preprocessing import LabelEncoder\n",
        "from sklearn.model_selection import train_test_split\n",
        "from sklearn.naive_bayes import GaussianNB\n",
        "from sklearn.metrics import accuracy_score\n"
      ],
      "execution_count": null,
      "outputs": []
    },
    {
      "cell_type": "code",
      "metadata": {
        "colab": {
          "base_uri": "https://localhost:8080/"
        },
        "id": "tuRkw-UWKFOS",
        "outputId": "75dbd543-59ce-4c61-948b-5aca93b80ca4"
      },
      "source": [
        "# clean data (แปลงข้อความเป็นตัวเลข)\n",
        "\n",
        "def cleandata(dataset):\n",
        "    for column in dataset.columns:\n",
        "        if dataset[column].dtype == type(object):\n",
        "            le = LabelEncoder()\n",
        "            dataset[column]=le.fit_transform(dataset[column])\n",
        "    return dataset\n",
        "\n",
        "dataset = cleandata(dataset)\n",
        "print(dataset.head())\n",
        "\n"
      ],
      "execution_count": null,
      "outputs": [
        {
          "output_type": "stream",
          "text": [
            "   age  workclass  fnlwgt  ...  hours.per.week  native.country  income\n",
            "0   90          0   77053  ...              40              39       0\n",
            "1   82          4  132870  ...              18              39       0\n",
            "2   66          0  186061  ...              40              39       0\n",
            "3   54          4  140359  ...              40              39       0\n",
            "4   41          4  264663  ...              40              39       0\n",
            "\n",
            "[5 rows x 15 columns]\n"
          ],
          "name": "stdout"
        }
      ]
    },
    {
      "cell_type": "code",
      "metadata": {
        "id": "c4J-NcVLLxLg"
      },
      "source": [
        "# Split feature & class\n",
        "def split_feature_class(dataset,feature):\n",
        "    features=dataset.drop(feature,axis=1) # เอาข้อมูลทั้งหมดยกเว้น income\n",
        "    labels=dataset[feature].copy() #เอาเฉพาะข้อมูล income\n",
        "    return features,labels\n"
      ],
      "execution_count": null,
      "outputs": []
    },
    {
      "cell_type": "code",
      "metadata": {
        "id": "UrW7pc9FUhYP"
      },
      "source": [
        "dataset=pd.read_csv(\"adult.csv\")\n",
        "dataset=cleandata(dataset)"
      ],
      "execution_count": null,
      "outputs": []
    },
    {
      "cell_type": "code",
      "metadata": {
        "id": "aDCGCDVYSNw5"
      },
      "source": [
        "#split train, test\n",
        "training_set, test_set = train_test_split(dataset, test_size = 0.2)\n",
        "\n",
        "# train\n",
        "train_features, train_labels = split_feature_class(training_set, \"income\")\n",
        "\n",
        "#test\n",
        "test_features, test_labels = split_feature_class(test_set, \"income\")"
      ],
      "execution_count": null,
      "outputs": []
    },
    {
      "cell_type": "code",
      "metadata": {
        "colab": {
          "base_uri": "https://localhost:8080/"
        },
        "id": "9uyaZ1STS0Wt",
        "outputId": "3ff677f9-86d7-42ac-a59b-9968ef25899c"
      },
      "source": [
        "#model\n",
        "model=GaussianNB()\n",
        "model.fit(train_features,train_labels)"
      ],
      "execution_count": null,
      "outputs": [
        {
          "output_type": "execute_result",
          "data": {
            "text/plain": [
              "GaussianNB(priors=None, var_smoothing=1e-09)"
            ]
          },
          "metadata": {
            "tags": []
          },
          "execution_count": 39
        }
      ]
    },
    {
      "cell_type": "code",
      "metadata": {
        "id": "4meVXpnUSfgM"
      },
      "source": [
        "#predict\n",
        "clf_pred=model.predict(test_features)"
      ],
      "execution_count": null,
      "outputs": []
    },
    {
      "cell_type": "code",
      "metadata": {
        "colab": {
          "base_uri": "https://localhost:8080/"
        },
        "id": "S0DVf0HPUvKM",
        "outputId": "c1ac4458-3ca2-4508-f626-055a98dc0b92"
      },
      "source": [
        "print(\"Accuracy = \",accuracy_score(test_labels,clf_pred))"
      ],
      "execution_count": null,
      "outputs": [
        {
          "output_type": "stream",
          "text": [
            "Accuracy =  0.797328420082911\n"
          ],
          "name": "stdout"
        }
      ]
    },
    {
      "cell_type": "code",
      "metadata": {
        "id": "pI5WUM9CU4hV"
      },
      "source": [
        ""
      ],
      "execution_count": null,
      "outputs": []
    }
  ]
}