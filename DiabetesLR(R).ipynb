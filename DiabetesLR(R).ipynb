{
  "nbformat": 4,
  "nbformat_minor": 0,
  "metadata": {
    "colab": {
      "name": "DiabetesLR(R).ipynb",
      "provenance": [],
      "authorship_tag": "ABX9TyPpkgv1KSAItgP4MDAl++DG",
      "include_colab_link": true
    },
    "kernelspec": {
      "name": "ir",
      "display_name": "R"
    },
    "language_info": {
      "name": "R"
    }
  },
  "cells": [
    {
      "cell_type": "markdown",
      "metadata": {
        "id": "view-in-github",
        "colab_type": "text"
      },
      "source": [
        "<a href=\"https://colab.research.google.com/github/poonmanz/portfolio/blob/main/DiabetesLR(R).ipynb\" target=\"_parent\"><img src=\"https://colab.research.google.com/assets/colab-badge.svg\" alt=\"Open In Colab\"/></a>"
      ]
    },
    {
      "cell_type": "code",
      "metadata": {
        "id": "iT3FO2M2ZgUm"
      },
      "source": [
        "# Logistics regression\n",
        "# predict diabetes\n",
        "## By Peson Suksamai\n",
        "\n",
        "# load dataset\n",
        "diabetes <- read.csv(\"diabetes.csv\")"
      ],
      "execution_count": 23,
      "outputs": []
    },
    {
      "cell_type": "code",
      "metadata": {
        "colab": {
          "base_uri": "https://localhost:8080/",
          "height": 522
        },
        "id": "JgjxgczdZmGC",
        "outputId": "18109b98-efd5-47e0-b750-316bfc5c0d22"
      },
      "source": [
        "# preview dataset\n",
        "head(diabetes)\n",
        "tail(diabetes)"
      ],
      "execution_count": 24,
      "outputs": [
        {
          "output_type": "display_data",
          "data": {
            "text/plain": [
              "  pregnant glucose pressure triceps insulin mass pedigree age diabetes\n",
              "1 6        148     72       35        0     33.6 0.627    50  pos     \n",
              "2 1         85     66       29        0     26.6 0.351    31  neg     \n",
              "3 8        183     64        0        0     23.3 0.672    32  pos     \n",
              "4 1         89     66       23       94     28.1 0.167    21  neg     \n",
              "5 0        137     40       35      168     43.1 2.288    33  pos     \n",
              "6 5        116     74        0        0     25.6 0.201    30  neg     "
            ],
            "text/latex": "A data.frame: 6 × 9\n\\begin{tabular}{r|lllllllll}\n  & pregnant & glucose & pressure & triceps & insulin & mass & pedigree & age & diabetes\\\\\n  & <int> & <int> & <int> & <int> & <int> & <dbl> & <dbl> & <int> & <chr>\\\\\n\\hline\n\t1 & 6 & 148 & 72 & 35 &   0 & 33.6 & 0.627 & 50 & pos\\\\\n\t2 & 1 &  85 & 66 & 29 &   0 & 26.6 & 0.351 & 31 & neg\\\\\n\t3 & 8 & 183 & 64 &  0 &   0 & 23.3 & 0.672 & 32 & pos\\\\\n\t4 & 1 &  89 & 66 & 23 &  94 & 28.1 & 0.167 & 21 & neg\\\\\n\t5 & 0 & 137 & 40 & 35 & 168 & 43.1 & 2.288 & 33 & pos\\\\\n\t6 & 5 & 116 & 74 &  0 &   0 & 25.6 & 0.201 & 30 & neg\\\\\n\\end{tabular}\n",
            "text/markdown": "\nA data.frame: 6 × 9\n\n| <!--/--> | pregnant &lt;int&gt; | glucose &lt;int&gt; | pressure &lt;int&gt; | triceps &lt;int&gt; | insulin &lt;int&gt; | mass &lt;dbl&gt; | pedigree &lt;dbl&gt; | age &lt;int&gt; | diabetes &lt;chr&gt; |\n|---|---|---|---|---|---|---|---|---|---|\n| 1 | 6 | 148 | 72 | 35 |   0 | 33.6 | 0.627 | 50 | pos |\n| 2 | 1 |  85 | 66 | 29 |   0 | 26.6 | 0.351 | 31 | neg |\n| 3 | 8 | 183 | 64 |  0 |   0 | 23.3 | 0.672 | 32 | pos |\n| 4 | 1 |  89 | 66 | 23 |  94 | 28.1 | 0.167 | 21 | neg |\n| 5 | 0 | 137 | 40 | 35 | 168 | 43.1 | 2.288 | 33 | pos |\n| 6 | 5 | 116 | 74 |  0 |   0 | 25.6 | 0.201 | 30 | neg |\n\n",
            "text/html": [
              "<table class=\"dataframe\">\n",
              "<caption>A data.frame: 6 × 9</caption>\n",
              "<thead>\n",
              "\t<tr><th></th><th scope=col>pregnant</th><th scope=col>glucose</th><th scope=col>pressure</th><th scope=col>triceps</th><th scope=col>insulin</th><th scope=col>mass</th><th scope=col>pedigree</th><th scope=col>age</th><th scope=col>diabetes</th></tr>\n",
              "\t<tr><th></th><th scope=col>&lt;int&gt;</th><th scope=col>&lt;int&gt;</th><th scope=col>&lt;int&gt;</th><th scope=col>&lt;int&gt;</th><th scope=col>&lt;int&gt;</th><th scope=col>&lt;dbl&gt;</th><th scope=col>&lt;dbl&gt;</th><th scope=col>&lt;int&gt;</th><th scope=col>&lt;chr&gt;</th></tr>\n",
              "</thead>\n",
              "<tbody>\n",
              "\t<tr><th scope=row>1</th><td>6</td><td>148</td><td>72</td><td>35</td><td>  0</td><td>33.6</td><td>0.627</td><td>50</td><td>pos</td></tr>\n",
              "\t<tr><th scope=row>2</th><td>1</td><td> 85</td><td>66</td><td>29</td><td>  0</td><td>26.6</td><td>0.351</td><td>31</td><td>neg</td></tr>\n",
              "\t<tr><th scope=row>3</th><td>8</td><td>183</td><td>64</td><td> 0</td><td>  0</td><td>23.3</td><td>0.672</td><td>32</td><td>pos</td></tr>\n",
              "\t<tr><th scope=row>4</th><td>1</td><td> 89</td><td>66</td><td>23</td><td> 94</td><td>28.1</td><td>0.167</td><td>21</td><td>neg</td></tr>\n",
              "\t<tr><th scope=row>5</th><td>0</td><td>137</td><td>40</td><td>35</td><td>168</td><td>43.1</td><td>2.288</td><td>33</td><td>pos</td></tr>\n",
              "\t<tr><th scope=row>6</th><td>5</td><td>116</td><td>74</td><td> 0</td><td>  0</td><td>25.6</td><td>0.201</td><td>30</td><td>neg</td></tr>\n",
              "</tbody>\n",
              "</table>\n"
            ]
          },
          "metadata": {
            "tags": []
          }
        },
        {
          "output_type": "display_data",
          "data": {
            "text/plain": [
              "    pregnant glucose pressure triceps insulin mass pedigree age diabetes\n",
              "763  9        89     62        0        0     22.5 0.142    33  neg     \n",
              "764 10       101     76       48      180     32.9 0.171    63  neg     \n",
              "765  2       122     70       27        0     36.8 0.340    27  neg     \n",
              "766  5       121     72       23      112     26.2 0.245    30  neg     \n",
              "767  1       126     60        0        0     30.1 0.349    47  pos     \n",
              "768  1        93     70       31        0     30.4 0.315    23  neg     "
            ],
            "text/latex": "A data.frame: 6 × 9\n\\begin{tabular}{r|lllllllll}\n  & pregnant & glucose & pressure & triceps & insulin & mass & pedigree & age & diabetes\\\\\n  & <int> & <int> & <int> & <int> & <int> & <dbl> & <dbl> & <int> & <chr>\\\\\n\\hline\n\t763 &  9 &  89 & 62 &  0 &   0 & 22.5 & 0.142 & 33 & neg\\\\\n\t764 & 10 & 101 & 76 & 48 & 180 & 32.9 & 0.171 & 63 & neg\\\\\n\t765 &  2 & 122 & 70 & 27 &   0 & 36.8 & 0.340 & 27 & neg\\\\\n\t766 &  5 & 121 & 72 & 23 & 112 & 26.2 & 0.245 & 30 & neg\\\\\n\t767 &  1 & 126 & 60 &  0 &   0 & 30.1 & 0.349 & 47 & pos\\\\\n\t768 &  1 &  93 & 70 & 31 &   0 & 30.4 & 0.315 & 23 & neg\\\\\n\\end{tabular}\n",
            "text/markdown": "\nA data.frame: 6 × 9\n\n| <!--/--> | pregnant &lt;int&gt; | glucose &lt;int&gt; | pressure &lt;int&gt; | triceps &lt;int&gt; | insulin &lt;int&gt; | mass &lt;dbl&gt; | pedigree &lt;dbl&gt; | age &lt;int&gt; | diabetes &lt;chr&gt; |\n|---|---|---|---|---|---|---|---|---|---|\n| 763 |  9 |  89 | 62 |  0 |   0 | 22.5 | 0.142 | 33 | neg |\n| 764 | 10 | 101 | 76 | 48 | 180 | 32.9 | 0.171 | 63 | neg |\n| 765 |  2 | 122 | 70 | 27 |   0 | 36.8 | 0.340 | 27 | neg |\n| 766 |  5 | 121 | 72 | 23 | 112 | 26.2 | 0.245 | 30 | neg |\n| 767 |  1 | 126 | 60 |  0 |   0 | 30.1 | 0.349 | 47 | pos |\n| 768 |  1 |  93 | 70 | 31 |   0 | 30.4 | 0.315 | 23 | neg |\n\n",
            "text/html": [
              "<table class=\"dataframe\">\n",
              "<caption>A data.frame: 6 × 9</caption>\n",
              "<thead>\n",
              "\t<tr><th></th><th scope=col>pregnant</th><th scope=col>glucose</th><th scope=col>pressure</th><th scope=col>triceps</th><th scope=col>insulin</th><th scope=col>mass</th><th scope=col>pedigree</th><th scope=col>age</th><th scope=col>diabetes</th></tr>\n",
              "\t<tr><th></th><th scope=col>&lt;int&gt;</th><th scope=col>&lt;int&gt;</th><th scope=col>&lt;int&gt;</th><th scope=col>&lt;int&gt;</th><th scope=col>&lt;int&gt;</th><th scope=col>&lt;dbl&gt;</th><th scope=col>&lt;dbl&gt;</th><th scope=col>&lt;int&gt;</th><th scope=col>&lt;chr&gt;</th></tr>\n",
              "</thead>\n",
              "<tbody>\n",
              "\t<tr><th scope=row>763</th><td> 9</td><td> 89</td><td>62</td><td> 0</td><td>  0</td><td>22.5</td><td>0.142</td><td>33</td><td>neg</td></tr>\n",
              "\t<tr><th scope=row>764</th><td>10</td><td>101</td><td>76</td><td>48</td><td>180</td><td>32.9</td><td>0.171</td><td>63</td><td>neg</td></tr>\n",
              "\t<tr><th scope=row>765</th><td> 2</td><td>122</td><td>70</td><td>27</td><td>  0</td><td>36.8</td><td>0.340</td><td>27</td><td>neg</td></tr>\n",
              "\t<tr><th scope=row>766</th><td> 5</td><td>121</td><td>72</td><td>23</td><td>112</td><td>26.2</td><td>0.245</td><td>30</td><td>neg</td></tr>\n",
              "\t<tr><th scope=row>767</th><td> 1</td><td>126</td><td>60</td><td> 0</td><td>  0</td><td>30.1</td><td>0.349</td><td>47</td><td>pos</td></tr>\n",
              "\t<tr><th scope=row>768</th><td> 1</td><td> 93</td><td>70</td><td>31</td><td>  0</td><td>30.4</td><td>0.315</td><td>23</td><td>neg</td></tr>\n",
              "</tbody>\n",
              "</table>\n"
            ]
          },
          "metadata": {
            "tags": []
          }
        }
      ]
    },
    {
      "cell_type": "code",
      "metadata": {
        "colab": {
          "base_uri": "https://localhost:8080/"
        },
        "id": "hAKpiOvzaMKY",
        "outputId": "a80ed6fa-5807-495f-8904-c61c7be168da"
      },
      "source": [
        "# review data type in our dataframe\n",
        "str(diabetes)"
      ],
      "execution_count": 25,
      "outputs": [
        {
          "output_type": "stream",
          "text": [
            "'data.frame':\t768 obs. of  9 variables:\n",
            " $ pregnant: int  6 1 8 1 0 5 3 10 2 8 ...\n",
            " $ glucose : int  148 85 183 89 137 116 78 115 197 125 ...\n",
            " $ pressure: int  72 66 64 66 40 74 50 0 70 96 ...\n",
            " $ triceps : int  35 29 0 23 35 0 32 0 45 0 ...\n",
            " $ insulin : int  0 0 0 94 168 0 88 0 543 0 ...\n",
            " $ mass    : num  33.6 26.6 23.3 28.1 43.1 25.6 31 35.3 30.5 0 ...\n",
            " $ pedigree: num  0.627 0.351 0.672 0.167 2.288 ...\n",
            " $ age     : int  50 31 32 21 33 30 26 29 53 54 ...\n",
            " $ diabetes: chr  \"pos\" \"neg\" \"pos\" \"neg\" ...\n"
          ],
          "name": "stdout"
        }
      ]
    },
    {
      "cell_type": "code",
      "metadata": {
        "id": "MnI5PyjJaPxs"
      },
      "source": [
        "diabetes$diabetes <- as.factor(diabetes$diabetes)"
      ],
      "execution_count": 26,
      "outputs": []
    },
    {
      "cell_type": "code",
      "metadata": {
        "colab": {
          "base_uri": "https://localhost:8080/",
          "height": 70
        },
        "id": "bNMnbnjZa1Qx",
        "outputId": "1a41f02c-892f-4092-cd28-2798d713b653"
      },
      "source": [
        "# count frequency\n",
        "table(diabetes$diabetes) / nrow(diabetes)"
      ],
      "execution_count": 27,
      "outputs": [
        {
          "output_type": "display_data",
          "data": {
            "text/plain": [
              "\n",
              "      neg       pos \n",
              "0.6510417 0.3489583 "
            ]
          },
          "metadata": {
            "tags": []
          }
        }
      ]
    },
    {
      "cell_type": "code",
      "metadata": {
        "id": "BQvgTHs4a-yD"
      },
      "source": [
        "# split dataset\n",
        "set.seed(42)\n",
        "n <- nrow(diabetes)\n",
        "train_id <- sample(1:n, size = 0.8*n)\n",
        "train_data <- diabetes[train_id, ]\n",
        "test_data <- diabetes[-train_id, ]"
      ],
      "execution_count": 28,
      "outputs": []
    },
    {
      "cell_type": "code",
      "metadata": {
        "id": "qK4xSVppbMsW"
      },
      "source": [
        "# train model\n",
        "logisticModel <- glm(diabetes ~ glucose + age + mass,\n",
        "                     data = train_data,\n",
        "                     family = \"binomial\")"
      ],
      "execution_count": 29,
      "outputs": []
    },
    {
      "cell_type": "code",
      "metadata": {
        "colab": {
          "base_uri": "https://localhost:8080/",
          "height": 51
        },
        "id": "xo3IKQNkboja",
        "outputId": "1dc0139a-d506-4d54-edb3-1da62ec2ee52"
      },
      "source": [
        "# test model\n",
        "p <- predict(logisticModel, newdata = test_data, type = \"response\")\n",
        "predictions <- ifelse(p > 0.5, \"pos\", \"neg\")\n",
        "predictions[1:20]"
      ],
      "execution_count": 30,
      "outputs": [
        {
          "output_type": "display_data",
          "data": {
            "text/plain": [
              "    1     4     5     6    29    34    36    38    43    44    48    50    52 \n",
              "\"pos\" \"neg\" \"pos\" \"neg\" \"neg\" \"neg\" \"neg\" \"neg\" \"neg\" \"pos\" \"neg\" \"neg\" \"neg\" \n",
              "   55    56    64    66    70    71    72 \n",
              "\"pos\" \"neg\" \"neg\" \"neg\" \"neg\" \"neg\" \"neg\" "
            ],
            "text/latex": "\\begin{description*}\n\\item[1] 'pos'\n\\item[4] 'neg'\n\\item[5] 'pos'\n\\item[6] 'neg'\n\\item[29] 'neg'\n\\item[34] 'neg'\n\\item[36] 'neg'\n\\item[38] 'neg'\n\\item[43] 'neg'\n\\item[44] 'pos'\n\\item[48] 'neg'\n\\item[50] 'neg'\n\\item[52] 'neg'\n\\item[55] 'pos'\n\\item[56] 'neg'\n\\item[64] 'neg'\n\\item[66] 'neg'\n\\item[70] 'neg'\n\\item[71] 'neg'\n\\item[72] 'neg'\n\\end{description*}\n",
            "text/markdown": "1\n:   'pos'4\n:   'neg'5\n:   'pos'6\n:   'neg'29\n:   'neg'34\n:   'neg'36\n:   'neg'38\n:   'neg'43\n:   'neg'44\n:   'pos'48\n:   'neg'50\n:   'neg'52\n:   'neg'55\n:   'pos'56\n:   'neg'64\n:   'neg'66\n:   'neg'70\n:   'neg'71\n:   'neg'72\n:   'neg'\n\n",
            "text/html": [
              "<style>\n",
              ".dl-inline {width: auto; margin:0; padding: 0}\n",
              ".dl-inline>dt, .dl-inline>dd {float: none; width: auto; display: inline-block}\n",
              ".dl-inline>dt::after {content: \":\\0020\"; padding-right: .5ex}\n",
              ".dl-inline>dt:not(:first-of-type) {padding-left: .5ex}\n",
              "</style><dl class=dl-inline><dt>1</dt><dd>'pos'</dd><dt>4</dt><dd>'neg'</dd><dt>5</dt><dd>'pos'</dd><dt>6</dt><dd>'neg'</dd><dt>29</dt><dd>'neg'</dd><dt>34</dt><dd>'neg'</dd><dt>36</dt><dd>'neg'</dd><dt>38</dt><dd>'neg'</dd><dt>43</dt><dd>'neg'</dd><dt>44</dt><dd>'pos'</dd><dt>48</dt><dd>'neg'</dd><dt>50</dt><dd>'neg'</dd><dt>52</dt><dd>'neg'</dd><dt>55</dt><dd>'pos'</dd><dt>56</dt><dd>'neg'</dd><dt>64</dt><dd>'neg'</dd><dt>66</dt><dd>'neg'</dd><dt>70</dt><dd>'neg'</dd><dt>71</dt><dd>'neg'</dd><dt>72</dt><dd>'neg'</dd></dl>\n"
            ]
          },
          "metadata": {
            "tags": []
          }
        }
      ]
    },
    {
      "cell_type": "code",
      "metadata": {
        "colab": {
          "base_uri": "https://localhost:8080/",
          "height": 34
        },
        "id": "y6hUjY9Tb30i",
        "outputId": "f8700f15-6653-488e-d16f-8ee3a0353915"
      },
      "source": [
        "# prediction == actual\n",
        "mean(predictions == test_data$diabetes)"
      ],
      "execution_count": 31,
      "outputs": [
        {
          "output_type": "display_data",
          "data": {
            "text/plain": [
              "[1] 0.7792208"
            ],
            "text/latex": "0.779220779220779",
            "text/markdown": "0.779220779220779",
            "text/html": [
              "0.779220779220779"
            ]
          },
          "metadata": {
            "tags": []
          }
        }
      ]
    },
    {
      "cell_type": "code",
      "metadata": {
        "colab": {
          "base_uri": "https://localhost:8080/",
          "height": 88
        },
        "id": "Q-masqIWcycQ",
        "outputId": "6912922a-e246-4003-d1e2-672a8ed23678"
      },
      "source": [
        "# confusion matrix\n",
        "table(predictions, test_data$diabetes, dnn = c(\"predicted\", \"actual\"))"
      ],
      "execution_count": 32,
      "outputs": [
        {
          "output_type": "display_data",
          "data": {
            "text/plain": [
              "         actual\n",
              "predicted neg pos\n",
              "      neg  87  22\n",
              "      pos  12  33"
            ]
          },
          "metadata": {
            "tags": []
          }
        }
      ]
    }
  ]
}